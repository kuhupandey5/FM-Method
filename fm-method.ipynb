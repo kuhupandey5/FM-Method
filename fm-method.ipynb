{
 "cells": [
  {
   "cell_type": "code",
   "execution_count": 14,
   "source": [
    "from bitarray import bitarray\n",
    "import mmh3\n",
    "import statistics\n",
    "import math"
   ],
   "outputs": [],
   "metadata": {}
  },
  {
   "cell_type": "code",
   "execution_count": 15,
   "source": [
    "def trailing_zeros(n):\n",
    "    string = str(n)\n",
    "    return len(string) - len(string.rstrip('0'))"
   ],
   "outputs": [],
   "metadata": {}
  },
  {
   "cell_type": "code",
   "execution_count": 16,
   "source": [
    "# list of files to read\n",
    "file_names = ['quotes_2008-08.txt',\n",
    "              'quotes_2008-09.txt',\n",
    "              'quotes_2008-10.txt',\n",
    "              'quotes_2008-11.txt',\n",
    "              'quotes_2008-12.txt',\n",
    "              'quotes_2009-01.txt',\n",
    "              'quotes_2009-02.txt',\n",
    "              'quotes_2009-03.txt',\n",
    "              'quotes_2009-04.txt']"
   ],
   "outputs": [],
   "metadata": {}
  },
  {
   "cell_type": "code",
   "execution_count": 17,
   "source": [
    "result = [ \"\" for i in range(10)]\n",
    "result_tail = [[] for i in range(10)]"
   ],
   "outputs": [],
   "metadata": {}
  },
  {
   "cell_type": "code",
   "execution_count": 18,
   "source": [
    "for i in file_names:\n",
    "    file = open(i,\"r\", encoding='ISO-8859-1')\n",
    "    for data in file:\n",
    "        temp = data.split(\"\\t\")\n",
    "        if temp[0] == 'Q':\n",
    "            for j in range(10):\n",
    "                # represent in 32 bits\n",
    "                result[j] = format(abs(mmh3.hash(temp[1], j)), '032b')\n",
    "                result_tail[j].append(trailing_zeros(result[j]))\n",
    "    file.close()"
   ],
   "outputs": [],
   "metadata": {}
  },
  {
   "cell_type": "code",
   "execution_count": 26,
   "source": [
    "sumGrp1 = 0\n",
    "for i in range(5):\n",
    "    sumGrp1 += 2**(max(result_tail[i]))\n",
    "sumGrp2 = 0\n",
    "for i in range(5,10):\n",
    "    sumGrp2 += 2**(max(result_tail[i]))\n",
    "avgHashGrp1 = sumGrp1/float(5)\n",
    "avgHashGrp2 = sumGrp2/float(5)"
   ],
   "outputs": [],
   "metadata": {}
  },
  {
   "cell_type": "code",
   "execution_count": 27,
   "source": [
    "print (math.ceil(statistics.median([avgHashGrp1, avgHashGrp2])))"
   ],
   "outputs": [
    {
     "output_type": "stream",
     "name": "stdout",
     "text": [
      "214748365\n"
     ]
    }
   ],
   "metadata": {}
  },
  {
   "cell_type": "code",
   "execution_count": null,
   "source": [],
   "outputs": [],
   "metadata": {}
  }
 ],
 "metadata": {
  "kernelspec": {
   "display_name": "Python 3",
   "language": "python",
   "name": "python3"
  }
 },
 "nbformat": 4,
 "nbformat_minor": 5
}